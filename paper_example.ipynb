{
 "cells": [
  {
   "cell_type": "code",
   "execution_count": null,
   "metadata": {},
   "outputs": [],
   "source": [
    "import autogen\n",
    "import os\n",
    "from autogen import AssistantAgent, UserProxyAgent\n",
    "from dotenv import load_dotenv"
   ]
  },
  {
   "cell_type": "code",
   "execution_count": null,
   "metadata": {},
   "outputs": [],
   "source": [
    "load_dotenv(\"azure.env\")\n",
    "\n",
    "config_list = [\n",
    "    {\n",
    "        \"model\": os.getenv(\"OPENAI_DEPLOYMENT_NAME\"),  \n",
    "        \"base_url\": os.getenv(\"OPENAI_API_BASE\"), \n",
    "        \"api_type\": \"azure\", \n",
    "        \"api_version\": os.getenv(\"OPENAI_API_VERSION\"), \n",
    "        \"api_key\": os.getenv(\"OPENAI_API_KEY\")\n",
    " }\n",
    "]\n",
    "\n",
    "gpt4_config = {\n",
    "    \"temperature\": 0,\n",
    "    \"config_list\": config_list,\n",
    "    \"timeout\": 120,\n",
    "}"
   ]
  },
  {
   "cell_type": "code",
   "execution_count": null,
   "metadata": {},
   "outputs": [],
   "source": [
    "user_proxy = autogen.UserProxyAgent(\n",
    "    name=\"Admin\",\n",
    "    system_message=\"A human admin. Interact with the planner to discuss the plan. Plan execution needs to be approved by this admin.\",\n",
    "    code_execution_config=False,\n",
    ")\n"
   ]
  },
  {
   "cell_type": "code",
   "execution_count": null,
   "metadata": {},
   "outputs": [],
   "source": [
    "planner = autogen.AssistantAgent(\n",
    "    name=\"Planner\",\n",
    "    system_message=\"\"\"Planner. Suggest a plan. Revise the plan based on feedback from admin and critic, until admin approval.\n",
    "                    The plan may involve an engineer who can write code and a scientist who doesn't write code.\n",
    "                    Explain the plan first. Be clear which step is performed by an engineer, and which step is performed by a scientist.\n",
    "                    \"\"\",\n",
    "    llm_config=gpt4_config,\n",
    ")"
   ]
  },
  {
   "cell_type": "code",
   "execution_count": null,
   "metadata": {},
   "outputs": [],
   "source": [
    "engineer = autogen.AssistantAgent(\n",
    "    name=\"Engineer\",\n",
    "    llm_config=gpt4_config,\n",
    "    system_message=\"\"\"Engineer. You follow an approved plan. You write python/shell code to solve tasks. \n",
    "                    Wrap the code in a code block that specifies the script type. The user can't modify your code. \n",
    "                    So do not suggest incomplete code which requires others to modify. \n",
    "                    Don't use a code block if it's not intended to be executed by the executor.\n",
    "                    Don't include multiple code blocks in one response. Do not ask others to copy and paste the result. \n",
    "                    Check the execution result returned by the executor.\n",
    "                    If the result indicates there is an error, fix the error and output the code again. \n",
    "                    Suggest the full code instead of partial code or code changes. \n",
    "                    If the error can't be fixed or if the task is not solved even after the code is executed successfully, \n",
    "                    Analyze the problem, revisit your assumption, collect additional info you need, and think of a different approach to try.\n",
    "                \"\"\",\n",
    ")\n"
   ]
  },
  {
   "cell_type": "code",
   "execution_count": null,
   "metadata": {},
   "outputs": [],
   "source": [
    "scientist = autogen.AssistantAgent(\n",
    "    name=\"Scientist\",\n",
    "    llm_config=gpt4_config,\n",
    "    system_message=\"\"\"Scientist. You follow an approved plan. You are able to categorize papers after seeing their abstracts printed. \n",
    "                    You don't write code.\n",
    "                    \"\"\",\n",
    ")\n"
   ]
  },
  {
   "cell_type": "code",
   "execution_count": null,
   "metadata": {},
   "outputs": [],
   "source": [
    "executor = autogen.UserProxyAgent(\n",
    "    name=\"Executor\",\n",
    "    system_message=\"Executor. Execute the code written by the engineer and report the result.\",\n",
    "    human_input_mode=\"NEVER\",\n",
    "    code_execution_config={\n",
    "        \"last_n_messages\": 3,\n",
    "        \"work_dir\": \"paper\",\n",
    "        \"use_docker\": False,\n",
    "    },  \n",
    ")"
   ]
  },
  {
   "cell_type": "code",
   "execution_count": null,
   "metadata": {},
   "outputs": [],
   "source": [
    "\n",
    "critic = autogen.AssistantAgent(\n",
    "    name=\"Critic\",\n",
    "    system_message=\"\"\"Critic. Double check plan, claims, code from other agents and provide feedback. \n",
    "                    Check whether the plan includes adding verifiable info such as source URL.\n",
    "                    \"\"\",\n",
    "    llm_config=gpt4_config,\n",
    ")\n"
   ]
  },
  {
   "cell_type": "code",
   "execution_count": null,
   "metadata": {},
   "outputs": [],
   "source": [
    "\n",
    "groupchat = autogen.GroupChat(\n",
    "    agents=[user_proxy, engineer, scientist, planner, executor, critic], messages=[], max_round=50\n",
    ")\n",
    "manager = autogen.GroupChatManager(groupchat=groupchat, llm_config=gpt4_config)\n",
    "\n",
    "user_proxy.initiate_chat(\n",
    "    manager,\n",
    "    message=\"\"\"\n",
    "            find papers on LLM applications from arxiv in the last week, create a markdown table of different domains.\n",
    "            \"\"\",\n",
    ")"
   ]
  },
  {
   "cell_type": "code",
   "execution_count": null,
   "metadata": {},
   "outputs": [],
   "source": []
  }
 ],
 "metadata": {
  "kernelspec": {
   "display_name": "Python 3",
   "language": "python",
   "name": "python3"
  },
  "language_info": {
   "codemirror_mode": {
    "name": "ipython",
    "version": 3
   },
   "file_extension": ".py",
   "mimetype": "text/x-python",
   "name": "python",
   "nbconvert_exporter": "python",
   "pygments_lexer": "ipython3",
   "version": "3.11.8"
  }
 },
 "nbformat": 4,
 "nbformat_minor": 2
}
